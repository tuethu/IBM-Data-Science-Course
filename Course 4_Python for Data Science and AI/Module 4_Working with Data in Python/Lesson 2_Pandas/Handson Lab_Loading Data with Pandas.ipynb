{
  "metadata": {
    "kernelspec": {
      "name": "python",
      "display_name": "Python (Pyodide)",
      "language": "python"
    },
    "language_info": {
      "codemirror_mode": {
        "name": "python",
        "version": 3
      },
      "file_extension": ".py",
      "mimetype": "text/x-python",
      "name": "python",
      "nbconvert_exporter": "python",
      "pygments_lexer": "ipython3",
      "version": "3.8"
    },
    "prev_pub_hash": "5297968995c02bb4cb6ee20e4aaed9ec08a6a69074102aa441f27b39cbc20a3b"
  },
  "nbformat_minor": 4,
  "nbformat": 4,
  "cells": [
    {
      "cell_type": "markdown",
      "source": "<center>\n    <img src=\"https://cf-courses-data.s3.us.cloud-object-storage.appdomain.cloud/IBMDeveloperSkillsNetwork-PY0101EN-SkillsNetwork/IDSNlogo.png\" width=\"300\" alt=\"cognitiveclass.ai logo\">\n</center>\n\n# Hands-on Lab: Loading data with Pandas\n\nEstimated time needed: **30** minutes\n\n## Objectives\n\nAfter completing this lab you will be able to:\n\n*   Use Pandas to access and view data\n",
      "metadata": {}
    },
    {
      "cell_type": "markdown",
      "source": "<h2>Table of Contents</h2>\n<div class=\"alert alert-block alert-info\" style=\"margin-top: 20px\">\n    <ul>\n        <li><a href=\"#About-the-Dataset\">About the Dataset</a></li>\n        <li><a href=\"#Introduction-of-Pandas\">Introduction of <code>Pandas</code></a></li>\n        <li><a href=\"#Viewing-Data-and-Accessing-Data\">Viewing Data and Accessing Data</a></li>\n        <li><a href=\"#Quiz-on-DataFrame\">Quiz on DataFrame</a></li>\n    </ul>\n\n</div>\n\n<hr>\n",
      "metadata": {}
    },
    {
      "cell_type": "markdown",
      "source": "## About the Dataset\n",
      "metadata": {}
    },
    {
      "cell_type": "markdown",
      "source": "The table has one row for each product and several columns.\n\n<ul>\n    <li><b>OrderID</b>: A unique identifier for each order</li>\n    <li><b>Product</b>: The name of the product purchased</li>\n    <li><b>Category</b>: The category to which the product belongs (e.g., Electronics, Furniture, Stationery)</li>\n    <li><b>Quantity</b>: The number of units purchased for that product</li>\n    <li><b>Price</b>: The price per unit of the product</li>\n    <li><b>Total</b>: The total cost for the product (calculated as Quantity × Price)</li>\n    <li><b>OrderDate</b>: The date when the order was placed</li>\n    <li><b>CustomerCity</b>: The city where the customer resides</li>\n    \n</ul>\n\nYou can see the dataset here:\n\n<font size=\"1\">\n<table style=\"font-size:medium; border:1px solid black; border-collapse:collapse;\">\n  <tr>\n    <th>OrderID</th>\n    <th>Product</th>\n    <th>Category</th>\n    <th>Quantity</th>\n    <th>Price</th>\n    <th>Total</th>\n    <th>OrderDate</th>\n    <th>CustomerCity</th>\n  </tr>\n  <tr>\n    <td>1</td>\n    <td>Laptop</td>\n    <td>Electronics</td>\n    <td>2</td>\n    <td>800</td>\n    <td>1600</td>\n    <td>2022-01-10</td>\n    <td>New York</td>\n  </tr>\n  <tr>\n    <td>2</td>\n    <td>Smartphone</td>\n    <td>Electronics</td>\n    <td>3</td>\n    <td>600</td>\n    <td>1800</td>\n    <td>2022-02-15</td>\n    <td>Los Angeles</td>\n  </tr>\n  <tr>\n    <td>3</td>\n    <td>Desk Chair</td>\n    <td>Furniture</td>\n    <td>5</td>\n    <td>150</td>\n    <td>750</td>\n    <td>2022-03-12</td>\n    <td>Chicago</td>\n  </tr>\n  <tr>\n    <td>4</td>\n    <td>Notebook</td>\n    <td>Stationery</td>\n    <td>10</td>\n    <td>2</td>\n    <td>20</td>\n    <td>2022-04-05</td>\n    <td>Houston</td>\n  </tr>\n  <tr>\n    <td>5</td>\n    <td>Monitor</td>\n    <td>Electronics</td>\n    <td>1</td>\n    <td>300</td>\n    <td>300</td>\n    <td>2022-05-21</td>\n    <td>Miami</td>\n  </tr>\n</table>\n</font>\n",
      "metadata": {}
    },
    {
      "cell_type": "markdown",
      "source": "<hr>\n",
      "metadata": {}
    },
    {
      "cell_type": "markdown",
      "source": "## Introduction of <code>Pandas</code>\n",
      "metadata": {}
    },
    {
      "cell_type": "code",
      "source": "# Dependency needed to install file \n\n%pip install xlrd openpyxl",
      "metadata": {
        "trusted": true
      },
      "outputs": [],
      "execution_count": 34
    },
    {
      "cell_type": "code",
      "source": "# Import required library\n\nimport pandas as pd",
      "metadata": {
        "trusted": true
      },
      "outputs": [],
      "execution_count": 35
    },
    {
      "cell_type": "markdown",
      "source": "After the import command, we now have access to a large number of pre-built classes and functions. This assumes the library is installed; in our lab environment all the necessary libraries are installed. One way pandas allows you to work with data is a dataframe. Let's go through the process to go from a comma separated values (<b>.csv</b>) file to a dataframe. This variable <code>csv_path</code> stores the path of the <b>.csv</b>, that is  used as an argument to the <code>read_csv</code> function. The result is stored in the object <code>df</code>, this is a common short form used for a variable referring to a Pandas dataframe.\n",
      "metadata": {}
    },
    {
      "cell_type": "code",
      "source": "# Read data from CSV file\n\n# csv_path = 'https://cf-courses-data.s3.us.cloud-object-storage.appdomain.cloud/LXjSAttmoxJfEG6il1Bqfw/Product-sales.csv'\n# df = pd.read_csv(csv_path)\n\nfrom pyodide.http import pyfetch\nimport pandas as pd\n\nfilename = \"https://cf-courses-data.s3.us.cloud-object-storage.appdomain.cloud/LXjSAttmoxJfEG6il1Bqfw/Product-sales.csv\"\n\nasync def download(url, filename):\n    response = await pyfetch(url)\n    if response.status == 200:\n        with open(filename, \"wb\") as f:\n            f.write(await response.bytes())\n\n\nawait download(filename, \"Product-sales.csv\")\ndf = pd.read_csv(\"Product-sales.csv\")",
      "metadata": {
        "trusted": true
      },
      "outputs": [],
      "execution_count": 36
    },
    {
      "cell_type": "markdown",
      "source": "> Note: This version of the lab is working on JupyterLite, which requires the dataset to be downloaded to the interface. While working on the downloaded version of this notebook on their local machines, the learners can simply **skip the steps above**, and simply use the URL directly in the `pandas.read_csv()` function. You can uncomment and run the statements in the cell below.\n",
      "metadata": {}
    },
    {
      "cell_type": "code",
      "source": "#filename = \"https://cf-courses-data.s3.us.cloud-object-storage.appdomain.cloud/LXjSAttmoxJfEG6il1Bqfw/Product-sales.csv\"\n#df = pd.read_csv(filename)",
      "metadata": {
        "trusted": true
      },
      "outputs": [],
      "execution_count": 37
    },
    {
      "cell_type": "markdown",
      "source": "We can use the method <code>head()</code> to examine the first five rows of a dataframe:\n",
      "metadata": {}
    },
    {
      "cell_type": "code",
      "source": "# Print first five rows of the dataframe\n\ndf.head()",
      "metadata": {
        "trusted": true
      },
      "outputs": [
        {
          "execution_count": 38,
          "output_type": "execute_result",
          "data": {
            "text/plain": "   OrderID     Product     Category  Quantity  Price  Total   OrderDate  \\\n0        1      Laptop  Electronics         2    800   1600  2022-01-10   \n1        2  Smartphone  Electronics         3    600   1800  2022-02-15   \n2        3  Desk Chair    Furniture         5    150    750  2022-03-12   \n3        4    Notebook   Stationery        10      2     20  2022-04-05   \n4        5     Monitor  Electronics         1    300    300  2022-05-21   \n\n  CustomerCity  \n0     New York  \n1  Los Angeles  \n2      Chicago  \n3      Houston  \n4        Miami  ",
            "text/html": "<div>\n<style scoped>\n    .dataframe tbody tr th:only-of-type {\n        vertical-align: middle;\n    }\n\n    .dataframe tbody tr th {\n        vertical-align: top;\n    }\n\n    .dataframe thead th {\n        text-align: right;\n    }\n</style>\n<table border=\"1\" class=\"dataframe\">\n  <thead>\n    <tr style=\"text-align: right;\">\n      <th></th>\n      <th>OrderID</th>\n      <th>Product</th>\n      <th>Category</th>\n      <th>Quantity</th>\n      <th>Price</th>\n      <th>Total</th>\n      <th>OrderDate</th>\n      <th>CustomerCity</th>\n    </tr>\n  </thead>\n  <tbody>\n    <tr>\n      <th>0</th>\n      <td>1</td>\n      <td>Laptop</td>\n      <td>Electronics</td>\n      <td>2</td>\n      <td>800</td>\n      <td>1600</td>\n      <td>2022-01-10</td>\n      <td>New York</td>\n    </tr>\n    <tr>\n      <th>1</th>\n      <td>2</td>\n      <td>Smartphone</td>\n      <td>Electronics</td>\n      <td>3</td>\n      <td>600</td>\n      <td>1800</td>\n      <td>2022-02-15</td>\n      <td>Los Angeles</td>\n    </tr>\n    <tr>\n      <th>2</th>\n      <td>3</td>\n      <td>Desk Chair</td>\n      <td>Furniture</td>\n      <td>5</td>\n      <td>150</td>\n      <td>750</td>\n      <td>2022-03-12</td>\n      <td>Chicago</td>\n    </tr>\n    <tr>\n      <th>3</th>\n      <td>4</td>\n      <td>Notebook</td>\n      <td>Stationery</td>\n      <td>10</td>\n      <td>2</td>\n      <td>20</td>\n      <td>2022-04-05</td>\n      <td>Houston</td>\n    </tr>\n    <tr>\n      <th>4</th>\n      <td>5</td>\n      <td>Monitor</td>\n      <td>Electronics</td>\n      <td>1</td>\n      <td>300</td>\n      <td>300</td>\n      <td>2022-05-21</td>\n      <td>Miami</td>\n    </tr>\n  </tbody>\n</table>\n</div>"
          },
          "metadata": {}
        }
      ],
      "execution_count": 38
    },
    {
      "cell_type": "markdown",
      "source": "We use the path of the excel file and the function <code>read_excel</code>. The result is a data frame as before:\n",
      "metadata": {}
    },
    {
      "cell_type": "code",
      "source": "# Read data from Excel File and print the first five rows\n\nxlsx_path = 'https://cf-courses-data.s3.us.cloud-object-storage.appdomain.cloud/n9LOuKI9SlUa1b5zkaCMeg/Product-sales.xlsx'\n\nawait download(xlsx_path, \"Product-sales.xlsx\")\ndf = pd.read_excel(\"Product-sales.xlsx\")\ndf.head()",
      "metadata": {
        "trusted": true
      },
      "outputs": [
        {
          "execution_count": 39,
          "output_type": "execute_result",
          "data": {
            "text/plain": "   OrderID     Product     Category  Quantity  Price  Total  OrderDate  \\\n0        1      Laptop  Electronics         2    800   1600 2022-01-10   \n1        2  Smartphone  Electronics         3    600   1800 2022-02-15   \n2        3  Desk Chair    Furniture         5    150    750 2022-03-12   \n3        4    Notebook   Stationery        10      2     20 2022-04-05   \n4        5     Monitor  Electronics         1    300    300 2022-05-21   \n\n  CustomerCity  \n0     New York  \n1  Los Angeles  \n2      Chicago  \n3      Houston  \n4        Miami  ",
            "text/html": "<div>\n<style scoped>\n    .dataframe tbody tr th:only-of-type {\n        vertical-align: middle;\n    }\n\n    .dataframe tbody tr th {\n        vertical-align: top;\n    }\n\n    .dataframe thead th {\n        text-align: right;\n    }\n</style>\n<table border=\"1\" class=\"dataframe\">\n  <thead>\n    <tr style=\"text-align: right;\">\n      <th></th>\n      <th>OrderID</th>\n      <th>Product</th>\n      <th>Category</th>\n      <th>Quantity</th>\n      <th>Price</th>\n      <th>Total</th>\n      <th>OrderDate</th>\n      <th>CustomerCity</th>\n    </tr>\n  </thead>\n  <tbody>\n    <tr>\n      <th>0</th>\n      <td>1</td>\n      <td>Laptop</td>\n      <td>Electronics</td>\n      <td>2</td>\n      <td>800</td>\n      <td>1600</td>\n      <td>2022-01-10</td>\n      <td>New York</td>\n    </tr>\n    <tr>\n      <th>1</th>\n      <td>2</td>\n      <td>Smartphone</td>\n      <td>Electronics</td>\n      <td>3</td>\n      <td>600</td>\n      <td>1800</td>\n      <td>2022-02-15</td>\n      <td>Los Angeles</td>\n    </tr>\n    <tr>\n      <th>2</th>\n      <td>3</td>\n      <td>Desk Chair</td>\n      <td>Furniture</td>\n      <td>5</td>\n      <td>150</td>\n      <td>750</td>\n      <td>2022-03-12</td>\n      <td>Chicago</td>\n    </tr>\n    <tr>\n      <th>3</th>\n      <td>4</td>\n      <td>Notebook</td>\n      <td>Stationery</td>\n      <td>10</td>\n      <td>2</td>\n      <td>20</td>\n      <td>2022-04-05</td>\n      <td>Houston</td>\n    </tr>\n    <tr>\n      <th>4</th>\n      <td>5</td>\n      <td>Monitor</td>\n      <td>Electronics</td>\n      <td>1</td>\n      <td>300</td>\n      <td>300</td>\n      <td>2022-05-21</td>\n      <td>Miami</td>\n    </tr>\n  </tbody>\n</table>\n</div>"
          },
          "metadata": {}
        }
      ],
      "execution_count": 39
    },
    {
      "cell_type": "markdown",
      "source": "> Note: This version of the lab is working on JupyterLite, which requires the dataset to be downloaded to the interface. While working on the downloaded version of this notebook on their local machines, the learners can simply **skip the steps above**, and simply use the URL directly in the `pandas.read_excel()` function. You can uncomment and run the statements in the cell below.\n",
      "metadata": {}
    },
    {
      "cell_type": "code",
      "source": "#xlsx_path = 'https://cf-courses-data.s3.us.cloud-object-storage.appdomain.cloud/n9LOuKI9SlUa1b5zkaCMeg/Product-sales.xlsx'\n#df = pd.read_excel(xlsx_path)\n#df.head()",
      "metadata": {
        "trusted": true
      },
      "outputs": [],
      "execution_count": 40
    },
    {
      "cell_type": "markdown",
      "source": "We can access the column <b>Quantity</b> and assign it a new dataframe <b>x</b>:\n",
      "metadata": {}
    },
    {
      "cell_type": "code",
      "source": "# Access to the column Length\n\nx = df[['Quantity']]\nx",
      "metadata": {
        "trusted": true
      },
      "outputs": [
        {
          "execution_count": 41,
          "output_type": "execute_result",
          "data": {
            "text/plain": "   Quantity\n0         2\n1         3\n2         5\n3        10\n4         1",
            "text/html": "<div>\n<style scoped>\n    .dataframe tbody tr th:only-of-type {\n        vertical-align: middle;\n    }\n\n    .dataframe tbody tr th {\n        vertical-align: top;\n    }\n\n    .dataframe thead th {\n        text-align: right;\n    }\n</style>\n<table border=\"1\" class=\"dataframe\">\n  <thead>\n    <tr style=\"text-align: right;\">\n      <th></th>\n      <th>Quantity</th>\n    </tr>\n  </thead>\n  <tbody>\n    <tr>\n      <th>0</th>\n      <td>2</td>\n    </tr>\n    <tr>\n      <th>1</th>\n      <td>3</td>\n    </tr>\n    <tr>\n      <th>2</th>\n      <td>5</td>\n    </tr>\n    <tr>\n      <th>3</th>\n      <td>10</td>\n    </tr>\n    <tr>\n      <th>4</th>\n      <td>1</td>\n    </tr>\n  </tbody>\n</table>\n</div>"
          },
          "metadata": {}
        }
      ],
      "execution_count": 41
    },
    {
      "cell_type": "markdown",
      "source": "The process is shown in the figure:\n",
      "metadata": {}
    },
    {
      "cell_type": "markdown",
      "source": "<img src=\"https://cf-courses-data.s3.us.cloud-object-storage.appdomain.cloud/CHIJ1eh6tYUzFsmgQIuCSA/1.PNG\" width=\"1150\">\n",
      "metadata": {}
    },
    {
      "cell_type": "markdown",
      "source": "<hr>\n",
      "metadata": {}
    },
    {
      "cell_type": "markdown",
      "source": "## Viewing Data and Accessing Data\n",
      "metadata": {}
    },
    {
      "cell_type": "markdown",
      "source": "You can also get a column as a series. You can think of a Pandas series as a 1-D dataframe. Just use one bracket:\n",
      "metadata": {}
    },
    {
      "cell_type": "code",
      "source": "# Get the column as a series\n\nx = df['Product']\nx",
      "metadata": {
        "trusted": true
      },
      "outputs": [
        {
          "execution_count": 42,
          "output_type": "execute_result",
          "data": {
            "text/plain": "0        Laptop\n1    Smartphone\n2    Desk Chair\n3      Notebook\n4       Monitor\nName: Product, dtype: object"
          },
          "metadata": {}
        }
      ],
      "execution_count": 42
    },
    {
      "cell_type": "markdown",
      "source": "You can also get a column as a dataframe. For example, we can assign the column <b>Quantity</b>:\n",
      "metadata": {}
    },
    {
      "cell_type": "code",
      "source": "# Get the column as a dataframe\n\nx = df[['Quantity']]\ntype(x)",
      "metadata": {
        "trusted": true
      },
      "outputs": [
        {
          "execution_count": 43,
          "output_type": "execute_result",
          "data": {
            "text/plain": "pandas.core.frame.DataFrame"
          },
          "metadata": {}
        }
      ],
      "execution_count": 43
    },
    {
      "cell_type": "markdown",
      "source": "You can do the same thing for multiple columns; we just put the dataframe name, in this case, <code>df</code>, and the name of the multiple column headers enclosed in double brackets. The result is a new dataframe comprised of the specified columns:\n",
      "metadata": {}
    },
    {
      "cell_type": "code",
      "source": "# Access to multiple columns\n\ny = df[['Product','Category', 'Quantity']]\ny",
      "metadata": {
        "trusted": true
      },
      "outputs": [
        {
          "execution_count": 44,
          "output_type": "execute_result",
          "data": {
            "text/plain": "      Product     Category  Quantity\n0      Laptop  Electronics         2\n1  Smartphone  Electronics         3\n2  Desk Chair    Furniture         5\n3    Notebook   Stationery        10\n4     Monitor  Electronics         1",
            "text/html": "<div>\n<style scoped>\n    .dataframe tbody tr th:only-of-type {\n        vertical-align: middle;\n    }\n\n    .dataframe tbody tr th {\n        vertical-align: top;\n    }\n\n    .dataframe thead th {\n        text-align: right;\n    }\n</style>\n<table border=\"1\" class=\"dataframe\">\n  <thead>\n    <tr style=\"text-align: right;\">\n      <th></th>\n      <th>Product</th>\n      <th>Category</th>\n      <th>Quantity</th>\n    </tr>\n  </thead>\n  <tbody>\n    <tr>\n      <th>0</th>\n      <td>Laptop</td>\n      <td>Electronics</td>\n      <td>2</td>\n    </tr>\n    <tr>\n      <th>1</th>\n      <td>Smartphone</td>\n      <td>Electronics</td>\n      <td>3</td>\n    </tr>\n    <tr>\n      <th>2</th>\n      <td>Desk Chair</td>\n      <td>Furniture</td>\n      <td>5</td>\n    </tr>\n    <tr>\n      <th>3</th>\n      <td>Notebook</td>\n      <td>Stationery</td>\n      <td>10</td>\n    </tr>\n    <tr>\n      <th>4</th>\n      <td>Monitor</td>\n      <td>Electronics</td>\n      <td>1</td>\n    </tr>\n  </tbody>\n</table>\n</div>"
          },
          "metadata": {}
        }
      ],
      "execution_count": 44
    },
    {
      "cell_type": "markdown",
      "source": "The process is shown in the figure:\n",
      "metadata": {}
    },
    {
      "cell_type": "markdown",
      "source": "<img src=\"https://cf-courses-data.s3.us.cloud-object-storage.appdomain.cloud/BiDzVOrMQbianIz9DMum7A/2.PNG\" width=\"1100\">\n",
      "metadata": {}
    },
    {
      "cell_type": "markdown",
      "source": "One way to access unique elements is the <code>iloc</code> method, where you can access the 1st row and the 1st column as follows:\n",
      "metadata": {}
    },
    {
      "cell_type": "code",
      "source": "# Access the value on the first row and the first column\n\ndf.iloc[0, 0]",
      "metadata": {
        "trusted": true
      },
      "outputs": [
        {
          "execution_count": 45,
          "output_type": "execute_result",
          "data": {
            "text/plain": "1"
          },
          "metadata": {}
        }
      ],
      "execution_count": 45
    },
    {
      "cell_type": "markdown",
      "source": "You can access the 2nd row and the 1st column as follows:\n",
      "metadata": {}
    },
    {
      "cell_type": "code",
      "source": "# Access the value on the second row and the first column\n\ndf.iloc[1,0]",
      "metadata": {
        "trusted": true
      },
      "outputs": [
        {
          "execution_count": 46,
          "output_type": "execute_result",
          "data": {
            "text/plain": "2"
          },
          "metadata": {}
        }
      ],
      "execution_count": 46
    },
    {
      "cell_type": "markdown",
      "source": "You can access the 1st row and the 3rd column as follows:\n",
      "metadata": {}
    },
    {
      "cell_type": "code",
      "source": "# Access the value on the first row and the third column\n\ndf.iloc[0,2]",
      "metadata": {
        "trusted": true
      },
      "outputs": [
        {
          "execution_count": 47,
          "output_type": "execute_result",
          "data": {
            "text/plain": "'Electronics'"
          },
          "metadata": {}
        }
      ],
      "execution_count": 47
    },
    {
      "cell_type": "code",
      "source": "# Access the value on the second row and the third column\ndf.iloc[1,2]",
      "metadata": {
        "trusted": true
      },
      "outputs": [
        {
          "execution_count": 19,
          "output_type": "execute_result",
          "data": {
            "text/plain": "'Electronics'"
          },
          "metadata": {}
        }
      ],
      "execution_count": 19
    },
    {
      "cell_type": "code",
      "source": "",
      "metadata": {},
      "outputs": [],
      "execution_count": null
    },
    {
      "cell_type": "markdown",
      "source": "This is shown in the following image\n",
      "metadata": {}
    },
    {
      "cell_type": "markdown",
      "source": "<img src=\"https://cf-courses-data.s3.us.cloud-object-storage.appdomain.cloud/npw0rMu2hutg8MdOz4t_Kw/3.PNG\" width=\"750\">\n",
      "metadata": {}
    },
    {
      "cell_type": "markdown",
      "source": "You can access the column using the name as well, the following are the same as above:\n",
      "metadata": {}
    },
    {
      "cell_type": "code",
      "source": "# Access the column using the name\n\ndf.loc[0, 'Product']",
      "metadata": {
        "trusted": true
      },
      "outputs": [
        {
          "execution_count": 20,
          "output_type": "execute_result",
          "data": {
            "text/plain": "'Laptop'"
          },
          "metadata": {}
        }
      ],
      "execution_count": 20
    },
    {
      "cell_type": "code",
      "source": "# Access the column using the name\n\ndf.loc[1, 'Product']",
      "metadata": {
        "trusted": true
      },
      "outputs": [
        {
          "execution_count": 21,
          "output_type": "execute_result",
          "data": {
            "text/plain": "'Smartphone'"
          },
          "metadata": {}
        }
      ],
      "execution_count": 21
    },
    {
      "cell_type": "code",
      "source": "# Access the column using the name\n\ndf.loc[1, 'CustomerCity']",
      "metadata": {
        "trusted": true
      },
      "outputs": [
        {
          "execution_count": 22,
          "output_type": "execute_result",
          "data": {
            "text/plain": "'Los Angeles'"
          },
          "metadata": {}
        }
      ],
      "execution_count": 22
    },
    {
      "cell_type": "code",
      "source": "# Access the column using the name\n\ndf.loc[1, 'Total']",
      "metadata": {
        "trusted": true
      },
      "outputs": [
        {
          "execution_count": 23,
          "output_type": "execute_result",
          "data": {
            "text/plain": "1800"
          },
          "metadata": {}
        }
      ],
      "execution_count": 23
    },
    {
      "cell_type": "markdown",
      "source": "<img src=\"https://cf-courses-data.s3.us.cloud-object-storage.appdomain.cloud/TR4-yEJdBj9NyQa5rlL6mg/4.PNG\" width=\"750\">\n",
      "metadata": {}
    },
    {
      "cell_type": "markdown",
      "source": "You can perform slicing using both the index and the name of the column:\n",
      "metadata": {}
    },
    {
      "cell_type": "code",
      "source": "# Slicing the dataframe\n\ndf.iloc[0:2, 0:3]",
      "metadata": {
        "trusted": true
      },
      "outputs": [
        {
          "execution_count": 24,
          "output_type": "execute_result",
          "data": {
            "text/plain": "   OrderID     Product     Category\n0        1      Laptop  Electronics\n1        2  Smartphone  Electronics",
            "text/html": "<div>\n<style scoped>\n    .dataframe tbody tr th:only-of-type {\n        vertical-align: middle;\n    }\n\n    .dataframe tbody tr th {\n        vertical-align: top;\n    }\n\n    .dataframe thead th {\n        text-align: right;\n    }\n</style>\n<table border=\"1\" class=\"dataframe\">\n  <thead>\n    <tr style=\"text-align: right;\">\n      <th></th>\n      <th>OrderID</th>\n      <th>Product</th>\n      <th>Category</th>\n    </tr>\n  </thead>\n  <tbody>\n    <tr>\n      <th>0</th>\n      <td>1</td>\n      <td>Laptop</td>\n      <td>Electronics</td>\n    </tr>\n    <tr>\n      <th>1</th>\n      <td>2</td>\n      <td>Smartphone</td>\n      <td>Electronics</td>\n    </tr>\n  </tbody>\n</table>\n</div>"
          },
          "metadata": {}
        }
      ],
      "execution_count": 24
    },
    {
      "cell_type": "markdown",
      "source": "<img src=\"https://cf-courses-data.s3.us.cloud-object-storage.appdomain.cloud/iyo_KV6ejpqgDxCcd3M1wg/5.PNG\" width=\"950\">\n",
      "metadata": {}
    },
    {
      "cell_type": "code",
      "source": "# Slicing the dataframe using name\n\ndf.loc[0:2, 'OrderID':'Category']",
      "metadata": {
        "trusted": true
      },
      "outputs": [
        {
          "execution_count": 25,
          "output_type": "execute_result",
          "data": {
            "text/plain": "   OrderID     Product     Category\n0        1      Laptop  Electronics\n1        2  Smartphone  Electronics\n2        3  Desk Chair    Furniture",
            "text/html": "<div>\n<style scoped>\n    .dataframe tbody tr th:only-of-type {\n        vertical-align: middle;\n    }\n\n    .dataframe tbody tr th {\n        vertical-align: top;\n    }\n\n    .dataframe thead th {\n        text-align: right;\n    }\n</style>\n<table border=\"1\" class=\"dataframe\">\n  <thead>\n    <tr style=\"text-align: right;\">\n      <th></th>\n      <th>OrderID</th>\n      <th>Product</th>\n      <th>Category</th>\n    </tr>\n  </thead>\n  <tbody>\n    <tr>\n      <th>0</th>\n      <td>1</td>\n      <td>Laptop</td>\n      <td>Electronics</td>\n    </tr>\n    <tr>\n      <th>1</th>\n      <td>2</td>\n      <td>Smartphone</td>\n      <td>Electronics</td>\n    </tr>\n    <tr>\n      <th>2</th>\n      <td>3</td>\n      <td>Desk Chair</td>\n      <td>Furniture</td>\n    </tr>\n  </tbody>\n</table>\n</div>"
          },
          "metadata": {}
        }
      ],
      "execution_count": 25
    },
    {
      "cell_type": "markdown",
      "source": "<img src=\"https://cf-courses-data.s3.us.cloud-object-storage.appdomain.cloud/88vCcZQ8N4W_R7WyKoqoAA/6.PNG\" width=\"750\">\n",
      "metadata": {}
    },
    {
      "cell_type": "markdown",
      "source": "<hr>\n",
      "metadata": {}
    },
    {
      "cell_type": "markdown",
      "source": "## Quiz on DataFrame\n",
      "metadata": {}
    },
    {
      "cell_type": "markdown",
      "source": "Use a variable <code>q</code> to store the column <b>Price</b> as a dataframe\n",
      "metadata": {}
    },
    {
      "cell_type": "code",
      "source": "# Write your code below and press Shift+Enter to execute\nq = df[['Price']]\nq",
      "metadata": {
        "trusted": true
      },
      "outputs": [
        {
          "execution_count": 26,
          "output_type": "execute_result",
          "data": {
            "text/plain": "   Price\n0    800\n1    600\n2    150\n3      2\n4    300",
            "text/html": "<div>\n<style scoped>\n    .dataframe tbody tr th:only-of-type {\n        vertical-align: middle;\n    }\n\n    .dataframe tbody tr th {\n        vertical-align: top;\n    }\n\n    .dataframe thead th {\n        text-align: right;\n    }\n</style>\n<table border=\"1\" class=\"dataframe\">\n  <thead>\n    <tr style=\"text-align: right;\">\n      <th></th>\n      <th>Price</th>\n    </tr>\n  </thead>\n  <tbody>\n    <tr>\n      <th>0</th>\n      <td>800</td>\n    </tr>\n    <tr>\n      <th>1</th>\n      <td>600</td>\n    </tr>\n    <tr>\n      <th>2</th>\n      <td>150</td>\n    </tr>\n    <tr>\n      <th>3</th>\n      <td>2</td>\n    </tr>\n    <tr>\n      <th>4</th>\n      <td>300</td>\n    </tr>\n  </tbody>\n</table>\n</div>"
          },
          "metadata": {}
        }
      ],
      "execution_count": 26
    },
    {
      "cell_type": "markdown",
      "source": "<details><summary>Click here for the solution</summary>\n\n```python\nq = df[['Price']]\nq\n    \n```\n\n</details>\n",
      "metadata": {}
    },
    {
      "cell_type": "markdown",
      "source": "Assign the variable <code>q</code> to the dataframe that is made up of the column <b>Product</b> and <b>Category</b>:\n",
      "metadata": {}
    },
    {
      "cell_type": "code",
      "source": "# Write your code below and press Shift+Enter to execute\n\nq = df[['Product','Category']]\nq",
      "metadata": {
        "trusted": true
      },
      "outputs": [
        {
          "execution_count": 27,
          "output_type": "execute_result",
          "data": {
            "text/plain": "      Product     Category\n0      Laptop  Electronics\n1  Smartphone  Electronics\n2  Desk Chair    Furniture\n3    Notebook   Stationery\n4     Monitor  Electronics",
            "text/html": "<div>\n<style scoped>\n    .dataframe tbody tr th:only-of-type {\n        vertical-align: middle;\n    }\n\n    .dataframe tbody tr th {\n        vertical-align: top;\n    }\n\n    .dataframe thead th {\n        text-align: right;\n    }\n</style>\n<table border=\"1\" class=\"dataframe\">\n  <thead>\n    <tr style=\"text-align: right;\">\n      <th></th>\n      <th>Product</th>\n      <th>Category</th>\n    </tr>\n  </thead>\n  <tbody>\n    <tr>\n      <th>0</th>\n      <td>Laptop</td>\n      <td>Electronics</td>\n    </tr>\n    <tr>\n      <th>1</th>\n      <td>Smartphone</td>\n      <td>Electronics</td>\n    </tr>\n    <tr>\n      <th>2</th>\n      <td>Desk Chair</td>\n      <td>Furniture</td>\n    </tr>\n    <tr>\n      <th>3</th>\n      <td>Notebook</td>\n      <td>Stationery</td>\n    </tr>\n    <tr>\n      <th>4</th>\n      <td>Monitor</td>\n      <td>Electronics</td>\n    </tr>\n  </tbody>\n</table>\n</div>"
          },
          "metadata": {}
        }
      ],
      "execution_count": 27
    },
    {
      "cell_type": "markdown",
      "source": "<details><summary>Click here for the solution</summary>\n\n```python\nq = df[['Product', 'Category']]\nq\n    \n```\n\n</details>\n",
      "metadata": {}
    },
    {
      "cell_type": "markdown",
      "source": "Access the 2nd row and the 3rd column of <code>df</code>:\n",
      "metadata": {}
    },
    {
      "cell_type": "code",
      "source": "# Write your code below and press Shift+Enter to execute\ndf.iloc[1,2]",
      "metadata": {
        "trusted": true
      },
      "outputs": [
        {
          "execution_count": 48,
          "output_type": "execute_result",
          "data": {
            "text/plain": "'Electronics'"
          },
          "metadata": {}
        }
      ],
      "execution_count": 48
    },
    {
      "cell_type": "markdown",
      "source": "<details><summary>Click here for the solution</summary>\n\n```python\ndf.iloc[1, 2]\n    \n```\n\n</details>\n",
      "metadata": {}
    },
    {
      "cell_type": "markdown",
      "source": "Use the following list to convert the dataframe index <code>df</code> to characters and assign it to <code>df_new</code>; find the element corresponding to the row index <code>a</code> and column  <code>'CustomerCity'</code>. Then select the rows <code>a</code> through <code>d</code> for the column  <code>'CustomerCity'</code>\n",
      "metadata": {}
    },
    {
      "cell_type": "code",
      "source": "new_index=['a','b','c','d','e']\ndf_new=df\ndf_new.index=new_index\ndf_new.loc['a', 'CustomerCity']\ndf_new.loc['a':'d', 'CustomerCity']",
      "metadata": {
        "trusted": true
      },
      "outputs": [
        {
          "execution_count": 50,
          "output_type": "execute_result",
          "data": {
            "text/plain": "a       New York\nb    Los Angeles\nc        Chicago\nd        Houston\nName: CustomerCity, dtype: object"
          },
          "metadata": {}
        }
      ],
      "execution_count": 50
    },
    {
      "cell_type": "markdown",
      "source": "<details><summary>Click here for the solution</summary>\n\n```python\ndf_new=df\ndf_new.index=new_index\ndf_new.loc['a', 'CustomerCity']\ndf_new.loc['a':'d', 'CustomerCity']\n    \n```\n\n</details>\n",
      "metadata": {}
    },
    {
      "cell_type": "markdown",
      "source": "<hr>\n<h2>The last exercise!</h2>\n<p>Congratulations, you have completed your first lesson and hands-on lab in Python. \n<hr>\n",
      "metadata": {}
    },
    {
      "cell_type": "markdown",
      "source": "## Authors:\n\n[Joseph Santarcangelo](https://www.linkedin.com/in/joseph-s-50398b136/?utm_medium=Exinfluencer&utm_source=Exinfluencer&utm_content=000026UJ&utm_term=10006555&utm_id=NA-SkillsNetwork-Channel-SkillsNetworkCoursesIBMDeveloperSkillsNetworkPY0101ENSkillsNetwork19487395-2021-01-01)\n\nJoseph Santarcangelo has a PhD in Electrical Engineering, his research focused on using machine learning, signal processing, and computer vision to determine how videos impact human cognition. Joseph has been working for IBM since he completed his PhD.\n\n## <h3 align=\"center\"> © IBM Corporation 2023. All rights reserved. <h3/>\n\n<!--## Change Log\n\n| Date (YYYY-MM-DD) | Version | Changed By | Change Description                 |\n| ----------------- | ------- | ---------- | ---------------------------------- |\n| 2023-11-02 | 2.2 | Abhishek Gagneja | Instructions updated |\n| 2022-01-10        | 2.1     | Malika     | Removed the readme for GitShare    |\n| 2020-08-26        | 2.0     | Lavanya    | Moved lab to course repo in GitLab |\n| 2020-11-24        | 3.0     | Nayef      | Added new images                   |\n|                   |         |            |                                    |\n\n<hr/>\n--!>\n\n",
      "metadata": {}
    },
    {
      "cell_type": "code",
      "source": "",
      "metadata": {},
      "outputs": [],
      "execution_count": null
    }
  ]
}